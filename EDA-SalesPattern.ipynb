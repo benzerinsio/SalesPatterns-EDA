{
 "cells": [
  {
   "cell_type": "markdown",
   "id": "e1f10da1-7b22-4045-aa17-cd4185f0f192",
   "metadata": {},
   "source": [
    "# 💵 Descobrindo Padrões em Vendas"
   ]
  },
  {
   "cell_type": "markdown",
   "id": "83125a61-f104-42d7-9bde-b88c3a5e37ba",
   "metadata": {},
   "source": [
    "### 📌  Objetivo"
   ]
  },
  {
   "cell_type": "markdown",
   "id": "2ce6026e-bd89-4acb-8b1b-90c2407c1115",
   "metadata": {},
   "source": [
    "Analisar um dataset de vendas reais para desvendar os fatores que impulsionam o desempenho ao longo do tempo, combinando análise temporal avançada, segmentação detalhada e automação, com o intuito de extrair insights acionáveis e preparar uma base robusta para modelos preditivos de Machine Learning."
   ]
  },
  {
   "cell_type": "markdown",
   "id": "a890a6cd-785d-42a2-9468-73eebbce9a3c",
   "metadata": {},
   "source": [
    "### 🤔 Razão"
   ]
  },
  {
   "cell_type": "markdown",
   "id": "36fafab4-127d-4cf9-9a3f-e60c09c30b7a",
   "metadata": {},
   "source": [
    "Escolhi este projeto como o ápice da minha jornada em EDA porque vendas são o coração de muitos negócios, e entender seus padrões é um desafio real e universal. Quis ir além do básico, explorando como o tempo, os clientes e as condições afetam os resultados, e transformar dados brutos em uma história que não só informe, mas também inspire soluções práticas e tecnológicas."
   ]
  },
  {
   "cell_type": "markdown",
   "id": "5b5bc2e9-77e9-49db-b68b-c5d3d837e941",
   "metadata": {},
   "source": [
    "## 🛠️ 0. Configuração Inicial"
   ]
  },
  {
   "cell_type": "code",
   "execution_count": 7,
   "id": "93c176db-5369-457f-8bc9-14675bfabf86",
   "metadata": {},
   "outputs": [],
   "source": [
    "# Initial Setup\n",
    "import pandas as pd  # Data manipulation and analysis\n",
    "import numpy as np  # Numerical operations\n",
    "import seaborn as sns  # Statistical visualizations\n",
    "import matplotlib.pyplot as plt  # Basic plotting\n",
    "import plotly.express as px  # Interactive, simple charts\n",
    "import plotly.graph_objects as go  # Customized interactive visualizations\n",
    "\n",
    "# Environment Configuration\n",
    "sns.set_style(\"whitegrid\")  # Set clean visual style for charts\n",
    "plt.rcParams[\"figure.figsize\"] = (10, 6)  # Default figure size for consistency"
   ]
  },
  {
   "cell_type": "markdown",
   "id": "c825dd5b-7905-4cd5-b00f-2bdb86becea9",
   "metadata": {},
   "source": [
    "Para descobrir o que impulsiona, influencia e aumenta as vendas, escolhi ferramentas robustas para análise, exploração, tratamento e visualização de dados, combinadas com insights estatísticos de explorações anteriores."
   ]
  },
  {
   "cell_type": "markdown",
   "id": "97cf5f69-71d7-4597-8c54-69e6d4828133",
   "metadata": {},
   "source": [
    "## 🔋 1. Carregando e Compreendendo os Dados"
   ]
  },
  {
   "cell_type": "code",
   "execution_count": 10,
   "id": "558e2d62-46dc-473c-bd5b-484655c9bb9e",
   "metadata": {},
   "outputs": [],
   "source": [
    "# Reading the Superstore Sales Dataset\n",
    "df = pd.read_csv(\"superstoresales.csv\")  # Load sales data from CSV file"
   ]
  },
  {
   "cell_type": "code",
   "execution_count": 11,
   "id": "31cb7dbf-2c11-4fbe-bcba-80048fab9c5b",
   "metadata": {},
   "outputs": [
    {
     "name": "stdout",
     "output_type": "stream",
     "text": [
      "<class 'pandas.core.frame.DataFrame'>\n",
      "RangeIndex: 9800 entries, 0 to 9799\n",
      "Data columns (total 18 columns):\n",
      " #   Column         Non-Null Count  Dtype  \n",
      "---  ------         --------------  -----  \n",
      " 0   Row ID         9800 non-null   int64  \n",
      " 1   Order ID       9800 non-null   object \n",
      " 2   Order Date     9800 non-null   object \n",
      " 3   Ship Date      9800 non-null   object \n",
      " 4   Ship Mode      9800 non-null   object \n",
      " 5   Customer ID    9800 non-null   object \n",
      " 6   Customer Name  9800 non-null   object \n",
      " 7   Segment        9800 non-null   object \n",
      " 8   Country        9800 non-null   object \n",
      " 9   City           9800 non-null   object \n",
      " 10  State          9800 non-null   object \n",
      " 11  Postal Code    9789 non-null   float64\n",
      " 12  Region         9800 non-null   object \n",
      " 13  Product ID     9800 non-null   object \n",
      " 14  Category       9800 non-null   object \n",
      " 15  Sub-Category   9800 non-null   object \n",
      " 16  Product Name   9800 non-null   object \n",
      " 17  Sales          9800 non-null   float64\n",
      "dtypes: float64(2), int64(1), object(15)\n",
      "memory usage: 1.3+ MB\n"
     ]
    }
   ],
   "source": [
    "# Gathering Basic Information\n",
    "df.info()  # Display dataset structure and data types"
   ]
  },
  {
   "cell_type": "markdown",
   "id": "d0a076a3-1304-4b97-a815-95f7e89edd73",
   "metadata": {},
   "source": [
    "A análise inicial revelou ações necessárias:\n",
    "\n",
    "1. Eliminar a coluna `Row ID`, redundante com o índice do Pandas, para simplificar o dataset.\n",
    "2. Predominam variáveis categóricas; apenas `Postal Code` e `Sales` são numéricas, limitando estatísticas aos valores de venda e exigindo transformações em outras colunas.\n",
    "3. Existem 11 valores nulos em `Postal Code`, o que demanda estratégias específicas de tratamento."
   ]
  },
  {
   "cell_type": "code",
   "execution_count": 13,
   "id": "b75e527d-9df6-4e3d-98cb-9e5c2d8cab8f",
   "metadata": {},
   "outputs": [
    {
     "data": {
      "text/html": [
       "<div>\n",
       "<style scoped>\n",
       "    .dataframe tbody tr th:only-of-type {\n",
       "        vertical-align: middle;\n",
       "    }\n",
       "\n",
       "    .dataframe tbody tr th {\n",
       "        vertical-align: top;\n",
       "    }\n",
       "\n",
       "    .dataframe thead th {\n",
       "        text-align: right;\n",
       "    }\n",
       "</style>\n",
       "<table border=\"1\" class=\"dataframe\">\n",
       "  <thead>\n",
       "    <tr style=\"text-align: right;\">\n",
       "      <th></th>\n",
       "      <th>Row ID</th>\n",
       "      <th>Order ID</th>\n",
       "      <th>Order Date</th>\n",
       "      <th>Ship Date</th>\n",
       "      <th>Ship Mode</th>\n",
       "      <th>Customer ID</th>\n",
       "      <th>Customer Name</th>\n",
       "      <th>Segment</th>\n",
       "      <th>Country</th>\n",
       "      <th>City</th>\n",
       "      <th>State</th>\n",
       "      <th>Postal Code</th>\n",
       "      <th>Region</th>\n",
       "      <th>Product ID</th>\n",
       "      <th>Category</th>\n",
       "      <th>Sub-Category</th>\n",
       "      <th>Product Name</th>\n",
       "      <th>Sales</th>\n",
       "    </tr>\n",
       "  </thead>\n",
       "  <tbody>\n",
       "    <tr>\n",
       "      <th>0</th>\n",
       "      <td>1</td>\n",
       "      <td>CA-2017-152156</td>\n",
       "      <td>08/11/2017</td>\n",
       "      <td>11/11/2017</td>\n",
       "      <td>Second Class</td>\n",
       "      <td>CG-12520</td>\n",
       "      <td>Claire Gute</td>\n",
       "      <td>Consumer</td>\n",
       "      <td>United States</td>\n",
       "      <td>Henderson</td>\n",
       "      <td>Kentucky</td>\n",
       "      <td>42420.0</td>\n",
       "      <td>South</td>\n",
       "      <td>FUR-BO-10001798</td>\n",
       "      <td>Furniture</td>\n",
       "      <td>Bookcases</td>\n",
       "      <td>Bush Somerset Collection Bookcase</td>\n",
       "      <td>261.9600</td>\n",
       "    </tr>\n",
       "    <tr>\n",
       "      <th>1</th>\n",
       "      <td>2</td>\n",
       "      <td>CA-2017-152156</td>\n",
       "      <td>08/11/2017</td>\n",
       "      <td>11/11/2017</td>\n",
       "      <td>Second Class</td>\n",
       "      <td>CG-12520</td>\n",
       "      <td>Claire Gute</td>\n",
       "      <td>Consumer</td>\n",
       "      <td>United States</td>\n",
       "      <td>Henderson</td>\n",
       "      <td>Kentucky</td>\n",
       "      <td>42420.0</td>\n",
       "      <td>South</td>\n",
       "      <td>FUR-CH-10000454</td>\n",
       "      <td>Furniture</td>\n",
       "      <td>Chairs</td>\n",
       "      <td>Hon Deluxe Fabric Upholstered Stacking Chairs,...</td>\n",
       "      <td>731.9400</td>\n",
       "    </tr>\n",
       "    <tr>\n",
       "      <th>2</th>\n",
       "      <td>3</td>\n",
       "      <td>CA-2017-138688</td>\n",
       "      <td>12/06/2017</td>\n",
       "      <td>16/06/2017</td>\n",
       "      <td>Second Class</td>\n",
       "      <td>DV-13045</td>\n",
       "      <td>Darrin Van Huff</td>\n",
       "      <td>Corporate</td>\n",
       "      <td>United States</td>\n",
       "      <td>Los Angeles</td>\n",
       "      <td>California</td>\n",
       "      <td>90036.0</td>\n",
       "      <td>West</td>\n",
       "      <td>OFF-LA-10000240</td>\n",
       "      <td>Office Supplies</td>\n",
       "      <td>Labels</td>\n",
       "      <td>Self-Adhesive Address Labels for Typewriters b...</td>\n",
       "      <td>14.6200</td>\n",
       "    </tr>\n",
       "    <tr>\n",
       "      <th>3</th>\n",
       "      <td>4</td>\n",
       "      <td>US-2016-108966</td>\n",
       "      <td>11/10/2016</td>\n",
       "      <td>18/10/2016</td>\n",
       "      <td>Standard Class</td>\n",
       "      <td>SO-20335</td>\n",
       "      <td>Sean O'Donnell</td>\n",
       "      <td>Consumer</td>\n",
       "      <td>United States</td>\n",
       "      <td>Fort Lauderdale</td>\n",
       "      <td>Florida</td>\n",
       "      <td>33311.0</td>\n",
       "      <td>South</td>\n",
       "      <td>FUR-TA-10000577</td>\n",
       "      <td>Furniture</td>\n",
       "      <td>Tables</td>\n",
       "      <td>Bretford CR4500 Series Slim Rectangular Table</td>\n",
       "      <td>957.5775</td>\n",
       "    </tr>\n",
       "    <tr>\n",
       "      <th>4</th>\n",
       "      <td>5</td>\n",
       "      <td>US-2016-108966</td>\n",
       "      <td>11/10/2016</td>\n",
       "      <td>18/10/2016</td>\n",
       "      <td>Standard Class</td>\n",
       "      <td>SO-20335</td>\n",
       "      <td>Sean O'Donnell</td>\n",
       "      <td>Consumer</td>\n",
       "      <td>United States</td>\n",
       "      <td>Fort Lauderdale</td>\n",
       "      <td>Florida</td>\n",
       "      <td>33311.0</td>\n",
       "      <td>South</td>\n",
       "      <td>OFF-ST-10000760</td>\n",
       "      <td>Office Supplies</td>\n",
       "      <td>Storage</td>\n",
       "      <td>Eldon Fold 'N Roll Cart System</td>\n",
       "      <td>22.3680</td>\n",
       "    </tr>\n",
       "  </tbody>\n",
       "</table>\n",
       "</div>"
      ],
      "text/plain": [
       "   Row ID        Order ID  Order Date   Ship Date       Ship Mode Customer ID  \\\n",
       "0       1  CA-2017-152156  08/11/2017  11/11/2017    Second Class    CG-12520   \n",
       "1       2  CA-2017-152156  08/11/2017  11/11/2017    Second Class    CG-12520   \n",
       "2       3  CA-2017-138688  12/06/2017  16/06/2017    Second Class    DV-13045   \n",
       "3       4  US-2016-108966  11/10/2016  18/10/2016  Standard Class    SO-20335   \n",
       "4       5  US-2016-108966  11/10/2016  18/10/2016  Standard Class    SO-20335   \n",
       "\n",
       "     Customer Name    Segment        Country             City       State  \\\n",
       "0      Claire Gute   Consumer  United States        Henderson    Kentucky   \n",
       "1      Claire Gute   Consumer  United States        Henderson    Kentucky   \n",
       "2  Darrin Van Huff  Corporate  United States      Los Angeles  California   \n",
       "3   Sean O'Donnell   Consumer  United States  Fort Lauderdale     Florida   \n",
       "4   Sean O'Donnell   Consumer  United States  Fort Lauderdale     Florida   \n",
       "\n",
       "   Postal Code Region       Product ID         Category Sub-Category  \\\n",
       "0      42420.0  South  FUR-BO-10001798        Furniture    Bookcases   \n",
       "1      42420.0  South  FUR-CH-10000454        Furniture       Chairs   \n",
       "2      90036.0   West  OFF-LA-10000240  Office Supplies       Labels   \n",
       "3      33311.0  South  FUR-TA-10000577        Furniture       Tables   \n",
       "4      33311.0  South  OFF-ST-10000760  Office Supplies      Storage   \n",
       "\n",
       "                                        Product Name     Sales  \n",
       "0                  Bush Somerset Collection Bookcase  261.9600  \n",
       "1  Hon Deluxe Fabric Upholstered Stacking Chairs,...  731.9400  \n",
       "2  Self-Adhesive Address Labels for Typewriters b...   14.6200  \n",
       "3      Bretford CR4500 Series Slim Rectangular Table  957.5775  \n",
       "4                     Eldon Fold 'N Roll Cart System   22.3680  "
      ]
     },
     "execution_count": 13,
     "metadata": {},
     "output_type": "execute_result"
    }
   ],
   "source": [
    "# Previewing the Dataset\n",
    "df.head()  # Show first 5 rows to understand data layout"
   ]
  },
  {
   "cell_type": "code",
   "execution_count": 14,
   "id": "591d9b86-5160-4e75-a2c7-e3f5d4285770",
   "metadata": {},
   "outputs": [
    {
     "data": {
      "text/plain": [
       "Row ID             int64\n",
       "Order ID          object\n",
       "Order Date        object\n",
       "Ship Date         object\n",
       "Ship Mode         object\n",
       "Customer ID       object\n",
       "Customer Name     object\n",
       "Segment           object\n",
       "Country           object\n",
       "City              object\n",
       "State             object\n",
       "Postal Code      float64\n",
       "Region            object\n",
       "Product ID        object\n",
       "Category          object\n",
       "Sub-Category      object\n",
       "Product Name      object\n",
       "Sales            float64\n",
       "dtype: object"
      ]
     },
     "execution_count": 14,
     "metadata": {},
     "output_type": "execute_result"
    }
   ],
   "source": [
    "# Checking the type of each column\n",
    "df.dtypes"
   ]
  },
  {
   "cell_type": "code",
   "execution_count": 15,
   "id": "5d271b58-d902-4c70-a625-2b544c969a57",
   "metadata": {},
   "outputs": [
    {
     "data": {
      "text/html": [
       "<div>\n",
       "<style scoped>\n",
       "    .dataframe tbody tr th:only-of-type {\n",
       "        vertical-align: middle;\n",
       "    }\n",
       "\n",
       "    .dataframe tbody tr th {\n",
       "        vertical-align: top;\n",
       "    }\n",
       "\n",
       "    .dataframe thead th {\n",
       "        text-align: right;\n",
       "    }\n",
       "</style>\n",
       "<table border=\"1\" class=\"dataframe\">\n",
       "  <thead>\n",
       "    <tr style=\"text-align: right;\">\n",
       "      <th></th>\n",
       "      <th>Row ID</th>\n",
       "      <th>Postal Code</th>\n",
       "      <th>Sales</th>\n",
       "    </tr>\n",
       "  </thead>\n",
       "  <tbody>\n",
       "    <tr>\n",
       "      <th>count</th>\n",
       "      <td>9800.000000</td>\n",
       "      <td>9789.000000</td>\n",
       "      <td>9800.000000</td>\n",
       "    </tr>\n",
       "    <tr>\n",
       "      <th>mean</th>\n",
       "      <td>4900.500000</td>\n",
       "      <td>55273.322403</td>\n",
       "      <td>230.769059</td>\n",
       "    </tr>\n",
       "    <tr>\n",
       "      <th>std</th>\n",
       "      <td>2829.160653</td>\n",
       "      <td>32041.223413</td>\n",
       "      <td>626.651875</td>\n",
       "    </tr>\n",
       "    <tr>\n",
       "      <th>min</th>\n",
       "      <td>1.000000</td>\n",
       "      <td>1040.000000</td>\n",
       "      <td>0.444000</td>\n",
       "    </tr>\n",
       "    <tr>\n",
       "      <th>25%</th>\n",
       "      <td>2450.750000</td>\n",
       "      <td>23223.000000</td>\n",
       "      <td>17.248000</td>\n",
       "    </tr>\n",
       "    <tr>\n",
       "      <th>50%</th>\n",
       "      <td>4900.500000</td>\n",
       "      <td>58103.000000</td>\n",
       "      <td>54.490000</td>\n",
       "    </tr>\n",
       "    <tr>\n",
       "      <th>75%</th>\n",
       "      <td>7350.250000</td>\n",
       "      <td>90008.000000</td>\n",
       "      <td>210.605000</td>\n",
       "    </tr>\n",
       "    <tr>\n",
       "      <th>max</th>\n",
       "      <td>9800.000000</td>\n",
       "      <td>99301.000000</td>\n",
       "      <td>22638.480000</td>\n",
       "    </tr>\n",
       "  </tbody>\n",
       "</table>\n",
       "</div>"
      ],
      "text/plain": [
       "            Row ID   Postal Code         Sales\n",
       "count  9800.000000   9789.000000   9800.000000\n",
       "mean   4900.500000  55273.322403    230.769059\n",
       "std    2829.160653  32041.223413    626.651875\n",
       "min       1.000000   1040.000000      0.444000\n",
       "25%    2450.750000  23223.000000     17.248000\n",
       "50%    4900.500000  58103.000000     54.490000\n",
       "75%    7350.250000  90008.000000    210.605000\n",
       "max    9800.000000  99301.000000  22638.480000"
      ]
     },
     "execution_count": 15,
     "metadata": {},
     "output_type": "execute_result"
    }
   ],
   "source": [
    "# Analyzing Numerical Distribution\n",
    "df.describe()  # Summarize statistical properties of all numerical columns"
   ]
  },
  {
   "cell_type": "markdown",
   "id": "1bfe2908-5722-4a79-bf9c-ac9d28ab0b62",
   "metadata": {},
   "source": [
    "Algumas análises iniciais revelam informações valiosas:\n",
    "\n",
    "1. Dados consistentes (Não possuímos `Sales` ou `Postal Code` negativos)\n",
    "2. Presença de outliers superiores (o valor máximo excede significativamente o terceiro quartil)\n",
    "3. Variáveis de data não estão no formato correto\n",
    "\n",
    "Vamos explorar os nomes das colunas para identificar relações iniciais e planejar análises futuras."
   ]
  },
  {
   "cell_type": "code",
   "execution_count": 17,
   "id": "71a4471a-0dfc-424f-8b70-af92881dfe1a",
   "metadata": {},
   "outputs": [
    {
     "data": {
      "text/plain": [
       "Index(['Row ID', 'Order ID', 'Order Date', 'Ship Date', 'Ship Mode',\n",
       "       'Customer ID', 'Customer Name', 'Segment', 'Country', 'City', 'State',\n",
       "       'Postal Code', 'Region', 'Product ID', 'Category', 'Sub-Category',\n",
       "       'Product Name', 'Sales'],\n",
       "      dtype='object')"
      ]
     },
     "execution_count": 17,
     "metadata": {},
     "output_type": "execute_result"
    }
   ],
   "source": [
    "# Checking Column Names for Initial Pattern Identification\n",
    "df.columns  # List all column names to explore potential relationships"
   ]
  },
  {
   "cell_type": "markdown",
   "id": "9bea2964-a1aa-4cb8-a3fb-3ffad5911ab2",
   "metadata": {},
   "source": [
    "É possível idenficiar uma coluna com nomes (`Customer Name`). Apesar de fictícios, por ética e aplicabilidade real, optarei por removê-la, usando `Customer ID` para relações futuras.\n",
    "\n",
    "A partir dos nomes das colunas, destaco relações iniciais:\n",
    "\n",
    "1. Datas (`Order Date`, `Ship Date`) combinadas com parâmetros como cidade, país, segmento e região podem revelar distribuições e períodos ideais para campanhas, com datas como forte variável independente.\n",
    "2. Produtos (`Product ID`), segmentos (`Segment`) e categorias (`Category`) versus regiões (`Region`) mostram potencial para análises promissoras.\n",
    "3. Entrega (`Ship Mode`, datas) pode influenciar vendas por região, sugerindo relações a explorar.\n",
    "\n",
    "A riqueza e variedade do dataset, com múltiplas combinações possíveis, tornam este projeto relevante, aplicável e cheio de potencial."
   ]
  },
  {
   "cell_type": "markdown",
   "id": "b264333d-1b2c-42c9-90ce-bdb68312c992",
   "metadata": {},
   "source": [
    "## 🧼 2. Limpeza e Preparação dos Dados"
   ]
  },
  {
   "cell_type": "markdown",
   "id": "279b125b-b36c-444d-a9f4-989707f9485b",
   "metadata": {},
   "source": [
    "Vamos começar com os os passos que já determinamos anteriormente:\n",
    "\n",
    "1. Remover colunas `Row ID` e `Customer Name`\n",
    "2. Tratar as colunas com Data\n",
    "3. Lidar com os nulos\n",
    "\n",
    "E depois vamos seguir com duplicatas e outliers"
   ]
  },
  {
   "cell_type": "code",
   "execution_count": 21,
   "id": "9c18a30d-5555-4241-b11b-672fc6110a66",
   "metadata": {},
   "outputs": [
    {
     "data": {
      "text/plain": [
       "Index(['Order ID', 'Order Date', 'Ship Date', 'Ship Mode', 'Customer ID',\n",
       "       'Segment', 'Country', 'City', 'State', 'Postal Code', 'Region',\n",
       "       'Product ID', 'Category', 'Sub-Category', 'Product Name', 'Sales'],\n",
       "      dtype='object')"
      ]
     },
     "execution_count": 21,
     "metadata": {},
     "output_type": "execute_result"
    }
   ],
   "source": [
    "# Dropping Unnecessary Columns\n",
    "df.drop(columns=['Row ID', 'Customer Name'], axis=1, inplace=True)  # Remove redundant and ethically sensitive columns\n",
    "\n",
    "# Verifying Remaining Columns\n",
    "df.columns  # Display updated column list after removal"
   ]
  },
  {
   "cell_type": "markdown",
   "id": "40927ff6-4870-492f-84c1-84f09dbf2f06",
   "metadata": {},
   "source": [
    "Vamos transformar as datas em tipos de dados que podemos utilizar em nossa análise (`datetime`).\n",
    "\n",
    "Primeiro, confirmando quais colunas são de data:"
   ]
  },
  {
   "cell_type": "code",
   "execution_count": 23,
   "id": "a2e85b9d-3309-45de-8fb0-4eefda1e4a44",
   "metadata": {},
   "outputs": [
    {
     "data": {
      "text/html": [
       "<div>\n",
       "<style scoped>\n",
       "    .dataframe tbody tr th:only-of-type {\n",
       "        vertical-align: middle;\n",
       "    }\n",
       "\n",
       "    .dataframe tbody tr th {\n",
       "        vertical-align: top;\n",
       "    }\n",
       "\n",
       "    .dataframe thead th {\n",
       "        text-align: right;\n",
       "    }\n",
       "</style>\n",
       "<table border=\"1\" class=\"dataframe\">\n",
       "  <thead>\n",
       "    <tr style=\"text-align: right;\">\n",
       "      <th></th>\n",
       "      <th>Order ID</th>\n",
       "      <th>Order Date</th>\n",
       "      <th>Ship Date</th>\n",
       "      <th>Ship Mode</th>\n",
       "      <th>Customer ID</th>\n",
       "      <th>Segment</th>\n",
       "      <th>Country</th>\n",
       "      <th>City</th>\n",
       "      <th>State</th>\n",
       "      <th>Postal Code</th>\n",
       "      <th>Region</th>\n",
       "      <th>Product ID</th>\n",
       "      <th>Category</th>\n",
       "      <th>Sub-Category</th>\n",
       "      <th>Product Name</th>\n",
       "      <th>Sales</th>\n",
       "    </tr>\n",
       "  </thead>\n",
       "  <tbody>\n",
       "    <tr>\n",
       "      <th>0</th>\n",
       "      <td>CA-2017-152156</td>\n",
       "      <td>08/11/2017</td>\n",
       "      <td>11/11/2017</td>\n",
       "      <td>Second Class</td>\n",
       "      <td>CG-12520</td>\n",
       "      <td>Consumer</td>\n",
       "      <td>United States</td>\n",
       "      <td>Henderson</td>\n",
       "      <td>Kentucky</td>\n",
       "      <td>42420.0</td>\n",
       "      <td>South</td>\n",
       "      <td>FUR-BO-10001798</td>\n",
       "      <td>Furniture</td>\n",
       "      <td>Bookcases</td>\n",
       "      <td>Bush Somerset Collection Bookcase</td>\n",
       "      <td>261.96</td>\n",
       "    </tr>\n",
       "  </tbody>\n",
       "</table>\n",
       "</div>"
      ],
      "text/plain": [
       "         Order ID  Order Date   Ship Date     Ship Mode Customer ID   Segment  \\\n",
       "0  CA-2017-152156  08/11/2017  11/11/2017  Second Class    CG-12520  Consumer   \n",
       "\n",
       "         Country       City     State  Postal Code Region       Product ID  \\\n",
       "0  United States  Henderson  Kentucky      42420.0  South  FUR-BO-10001798   \n",
       "\n",
       "    Category Sub-Category                       Product Name   Sales  \n",
       "0  Furniture    Bookcases  Bush Somerset Collection Bookcase  261.96  "
      ]
     },
     "execution_count": 23,
     "metadata": {},
     "output_type": "execute_result"
    }
   ],
   "source": [
    "# Checking the first row just to see wich columns have the data structure\n",
    "df.head(1)"
   ]
  },
  {
   "cell_type": "markdown",
   "id": "1b703500-8774-487b-b089-2d756f28e741",
   "metadata": {},
   "source": [
    "Assim como o nome (`Date`) sugere, temos duas colunas com data (`Order Date` e `Ship Date`), vamos modificá-las."
   ]
  },
  {
   "cell_type": "code",
   "execution_count": 25,
   "id": "05616c8a-d428-49e0-9a02-3e24f2ba9bd5",
   "metadata": {},
   "outputs": [
    {
     "name": "stdout",
     "output_type": "stream",
     "text": [
      "<class 'pandas.core.frame.DataFrame'>\n",
      "RangeIndex: 9800 entries, 0 to 9799\n",
      "Data columns (total 16 columns):\n",
      " #   Column        Non-Null Count  Dtype         \n",
      "---  ------        --------------  -----         \n",
      " 0   Order ID      9800 non-null   object        \n",
      " 1   Order Date    9800 non-null   datetime64[ns]\n",
      " 2   Ship Date     9800 non-null   datetime64[ns]\n",
      " 3   Ship Mode     9800 non-null   object        \n",
      " 4   Customer ID   9800 non-null   object        \n",
      " 5   Segment       9800 non-null   object        \n",
      " 6   Country       9800 non-null   object        \n",
      " 7   City          9800 non-null   object        \n",
      " 8   State         9800 non-null   object        \n",
      " 9   Postal Code   9789 non-null   float64       \n",
      " 10  Region        9800 non-null   object        \n",
      " 11  Product ID    9800 non-null   object        \n",
      " 12  Category      9800 non-null   object        \n",
      " 13  Sub-Category  9800 non-null   object        \n",
      " 14  Product Name  9800 non-null   object        \n",
      " 15  Sales         9800 non-null   float64       \n",
      "dtypes: datetime64[ns](2), float64(2), object(12)\n",
      "memory usage: 1.2+ MB\n"
     ]
    }
   ],
   "source": [
    "# Converting date columns to datetime format (dd/mm/yyyy)\n",
    "df['Order Date'] = pd.to_datetime(df['Order Date'], format='%d/%m/%Y')\n",
    "df['Ship Date'] = pd.to_datetime(df['Ship Date'], format='%d/%m/%Y')\n",
    "\n",
    "# Checking\n",
    "df.info()"
   ]
  },
  {
   "cell_type": "markdown",
   "id": "d0e3bdb3-c2ef-48dd-92cb-6c4c3181074f",
   "metadata": {},
   "source": [
    "Tudo certo, indo para os nulos agora.\n",
    "\n",
    "Remover a quantidade de nulos (11 `Postal Code`) não impactará significativamente um dataset com cerca de 10.000 entradas.  \n",
    "\n",
    "Mas vamos analisar os dados antes:"
   ]
  },
  {
   "cell_type": "code",
   "execution_count": 27,
   "id": "a811d880-3fbd-4928-a912-3ff75221ef08",
   "metadata": {},
   "outputs": [
    {
     "data": {
      "text/html": [
       "<div>\n",
       "<style scoped>\n",
       "    .dataframe tbody tr th:only-of-type {\n",
       "        vertical-align: middle;\n",
       "    }\n",
       "\n",
       "    .dataframe tbody tr th {\n",
       "        vertical-align: top;\n",
       "    }\n",
       "\n",
       "    .dataframe thead th {\n",
       "        text-align: right;\n",
       "    }\n",
       "</style>\n",
       "<table border=\"1\" class=\"dataframe\">\n",
       "  <thead>\n",
       "    <tr style=\"text-align: right;\">\n",
       "      <th></th>\n",
       "      <th>Order ID</th>\n",
       "      <th>Order Date</th>\n",
       "      <th>Ship Date</th>\n",
       "      <th>Ship Mode</th>\n",
       "      <th>Customer ID</th>\n",
       "      <th>Segment</th>\n",
       "      <th>Country</th>\n",
       "      <th>City</th>\n",
       "      <th>State</th>\n",
       "      <th>Postal Code</th>\n",
       "      <th>Region</th>\n",
       "      <th>Product ID</th>\n",
       "      <th>Category</th>\n",
       "      <th>Sub-Category</th>\n",
       "      <th>Product Name</th>\n",
       "      <th>Sales</th>\n",
       "    </tr>\n",
       "  </thead>\n",
       "  <tbody>\n",
       "    <tr>\n",
       "      <th>2234</th>\n",
       "      <td>CA-2018-104066</td>\n",
       "      <td>2018-12-05</td>\n",
       "      <td>2018-12-10</td>\n",
       "      <td>Standard Class</td>\n",
       "      <td>QJ-19255</td>\n",
       "      <td>Corporate</td>\n",
       "      <td>United States</td>\n",
       "      <td>Burlington</td>\n",
       "      <td>Vermont</td>\n",
       "      <td>NaN</td>\n",
       "      <td>East</td>\n",
       "      <td>TEC-AC-10001013</td>\n",
       "      <td>Technology</td>\n",
       "      <td>Accessories</td>\n",
       "      <td>Logitech ClearChat Comfort/USB Headset H390</td>\n",
       "      <td>205.03</td>\n",
       "    </tr>\n",
       "    <tr>\n",
       "      <th>5274</th>\n",
       "      <td>CA-2016-162887</td>\n",
       "      <td>2016-11-07</td>\n",
       "      <td>2016-11-09</td>\n",
       "      <td>Second Class</td>\n",
       "      <td>SV-20785</td>\n",
       "      <td>Consumer</td>\n",
       "      <td>United States</td>\n",
       "      <td>Burlington</td>\n",
       "      <td>Vermont</td>\n",
       "      <td>NaN</td>\n",
       "      <td>East</td>\n",
       "      <td>FUR-CH-10000595</td>\n",
       "      <td>Furniture</td>\n",
       "      <td>Chairs</td>\n",
       "      <td>Safco Contoured Stacking Chairs</td>\n",
       "      <td>715.20</td>\n",
       "    </tr>\n",
       "    <tr>\n",
       "      <th>8798</th>\n",
       "      <td>US-2017-150140</td>\n",
       "      <td>2017-04-06</td>\n",
       "      <td>2017-04-10</td>\n",
       "      <td>Standard Class</td>\n",
       "      <td>VM-21685</td>\n",
       "      <td>Home Office</td>\n",
       "      <td>United States</td>\n",
       "      <td>Burlington</td>\n",
       "      <td>Vermont</td>\n",
       "      <td>NaN</td>\n",
       "      <td>East</td>\n",
       "      <td>TEC-PH-10002555</td>\n",
       "      <td>Technology</td>\n",
       "      <td>Phones</td>\n",
       "      <td>Nortel Meridian M5316 Digital phone</td>\n",
       "      <td>1294.75</td>\n",
       "    </tr>\n",
       "    <tr>\n",
       "      <th>9146</th>\n",
       "      <td>US-2017-165505</td>\n",
       "      <td>2017-01-23</td>\n",
       "      <td>2017-01-27</td>\n",
       "      <td>Standard Class</td>\n",
       "      <td>CB-12535</td>\n",
       "      <td>Corporate</td>\n",
       "      <td>United States</td>\n",
       "      <td>Burlington</td>\n",
       "      <td>Vermont</td>\n",
       "      <td>NaN</td>\n",
       "      <td>East</td>\n",
       "      <td>TEC-AC-10002926</td>\n",
       "      <td>Technology</td>\n",
       "      <td>Accessories</td>\n",
       "      <td>Logitech Wireless Marathon Mouse M705</td>\n",
       "      <td>99.98</td>\n",
       "    </tr>\n",
       "    <tr>\n",
       "      <th>9147</th>\n",
       "      <td>US-2017-165505</td>\n",
       "      <td>2017-01-23</td>\n",
       "      <td>2017-01-27</td>\n",
       "      <td>Standard Class</td>\n",
       "      <td>CB-12535</td>\n",
       "      <td>Corporate</td>\n",
       "      <td>United States</td>\n",
       "      <td>Burlington</td>\n",
       "      <td>Vermont</td>\n",
       "      <td>NaN</td>\n",
       "      <td>East</td>\n",
       "      <td>OFF-AR-10003477</td>\n",
       "      <td>Office Supplies</td>\n",
       "      <td>Art</td>\n",
       "      <td>4009 Highlighters</td>\n",
       "      <td>8.04</td>\n",
       "    </tr>\n",
       "    <tr>\n",
       "      <th>9148</th>\n",
       "      <td>US-2017-165505</td>\n",
       "      <td>2017-01-23</td>\n",
       "      <td>2017-01-27</td>\n",
       "      <td>Standard Class</td>\n",
       "      <td>CB-12535</td>\n",
       "      <td>Corporate</td>\n",
       "      <td>United States</td>\n",
       "      <td>Burlington</td>\n",
       "      <td>Vermont</td>\n",
       "      <td>NaN</td>\n",
       "      <td>East</td>\n",
       "      <td>OFF-ST-10001526</td>\n",
       "      <td>Office Supplies</td>\n",
       "      <td>Storage</td>\n",
       "      <td>Iceberg Mobile Mega Data/Printer Cart</td>\n",
       "      <td>1564.29</td>\n",
       "    </tr>\n",
       "    <tr>\n",
       "      <th>9386</th>\n",
       "      <td>US-2018-127292</td>\n",
       "      <td>2018-01-19</td>\n",
       "      <td>2018-01-23</td>\n",
       "      <td>Standard Class</td>\n",
       "      <td>RM-19375</td>\n",
       "      <td>Consumer</td>\n",
       "      <td>United States</td>\n",
       "      <td>Burlington</td>\n",
       "      <td>Vermont</td>\n",
       "      <td>NaN</td>\n",
       "      <td>East</td>\n",
       "      <td>OFF-PA-10000157</td>\n",
       "      <td>Office Supplies</td>\n",
       "      <td>Paper</td>\n",
       "      <td>Xerox 191</td>\n",
       "      <td>79.92</td>\n",
       "    </tr>\n",
       "    <tr>\n",
       "      <th>9387</th>\n",
       "      <td>US-2018-127292</td>\n",
       "      <td>2018-01-19</td>\n",
       "      <td>2018-01-23</td>\n",
       "      <td>Standard Class</td>\n",
       "      <td>RM-19375</td>\n",
       "      <td>Consumer</td>\n",
       "      <td>United States</td>\n",
       "      <td>Burlington</td>\n",
       "      <td>Vermont</td>\n",
       "      <td>NaN</td>\n",
       "      <td>East</td>\n",
       "      <td>OFF-PA-10001970</td>\n",
       "      <td>Office Supplies</td>\n",
       "      <td>Paper</td>\n",
       "      <td>Xerox 1881</td>\n",
       "      <td>12.28</td>\n",
       "    </tr>\n",
       "    <tr>\n",
       "      <th>9388</th>\n",
       "      <td>US-2018-127292</td>\n",
       "      <td>2018-01-19</td>\n",
       "      <td>2018-01-23</td>\n",
       "      <td>Standard Class</td>\n",
       "      <td>RM-19375</td>\n",
       "      <td>Consumer</td>\n",
       "      <td>United States</td>\n",
       "      <td>Burlington</td>\n",
       "      <td>Vermont</td>\n",
       "      <td>NaN</td>\n",
       "      <td>East</td>\n",
       "      <td>OFF-AP-10000828</td>\n",
       "      <td>Office Supplies</td>\n",
       "      <td>Appliances</td>\n",
       "      <td>Avanti 4.4 Cu. Ft. Refrigerator</td>\n",
       "      <td>542.94</td>\n",
       "    </tr>\n",
       "    <tr>\n",
       "      <th>9389</th>\n",
       "      <td>US-2018-127292</td>\n",
       "      <td>2018-01-19</td>\n",
       "      <td>2018-01-23</td>\n",
       "      <td>Standard Class</td>\n",
       "      <td>RM-19375</td>\n",
       "      <td>Consumer</td>\n",
       "      <td>United States</td>\n",
       "      <td>Burlington</td>\n",
       "      <td>Vermont</td>\n",
       "      <td>NaN</td>\n",
       "      <td>East</td>\n",
       "      <td>OFF-EN-10001509</td>\n",
       "      <td>Office Supplies</td>\n",
       "      <td>Envelopes</td>\n",
       "      <td>Poly String Tie Envelopes</td>\n",
       "      <td>2.04</td>\n",
       "    </tr>\n",
       "    <tr>\n",
       "      <th>9741</th>\n",
       "      <td>CA-2016-117086</td>\n",
       "      <td>2016-11-08</td>\n",
       "      <td>2016-11-12</td>\n",
       "      <td>Standard Class</td>\n",
       "      <td>QJ-19255</td>\n",
       "      <td>Corporate</td>\n",
       "      <td>United States</td>\n",
       "      <td>Burlington</td>\n",
       "      <td>Vermont</td>\n",
       "      <td>NaN</td>\n",
       "      <td>East</td>\n",
       "      <td>FUR-BO-10004834</td>\n",
       "      <td>Furniture</td>\n",
       "      <td>Bookcases</td>\n",
       "      <td>Riverside Palais Royal Lawyers Bookcase, Royal...</td>\n",
       "      <td>4404.90</td>\n",
       "    </tr>\n",
       "  </tbody>\n",
       "</table>\n",
       "</div>"
      ],
      "text/plain": [
       "            Order ID Order Date  Ship Date       Ship Mode Customer ID  \\\n",
       "2234  CA-2018-104066 2018-12-05 2018-12-10  Standard Class    QJ-19255   \n",
       "5274  CA-2016-162887 2016-11-07 2016-11-09    Second Class    SV-20785   \n",
       "8798  US-2017-150140 2017-04-06 2017-04-10  Standard Class    VM-21685   \n",
       "9146  US-2017-165505 2017-01-23 2017-01-27  Standard Class    CB-12535   \n",
       "9147  US-2017-165505 2017-01-23 2017-01-27  Standard Class    CB-12535   \n",
       "9148  US-2017-165505 2017-01-23 2017-01-27  Standard Class    CB-12535   \n",
       "9386  US-2018-127292 2018-01-19 2018-01-23  Standard Class    RM-19375   \n",
       "9387  US-2018-127292 2018-01-19 2018-01-23  Standard Class    RM-19375   \n",
       "9388  US-2018-127292 2018-01-19 2018-01-23  Standard Class    RM-19375   \n",
       "9389  US-2018-127292 2018-01-19 2018-01-23  Standard Class    RM-19375   \n",
       "9741  CA-2016-117086 2016-11-08 2016-11-12  Standard Class    QJ-19255   \n",
       "\n",
       "          Segment        Country        City    State  Postal Code Region  \\\n",
       "2234    Corporate  United States  Burlington  Vermont          NaN   East   \n",
       "5274     Consumer  United States  Burlington  Vermont          NaN   East   \n",
       "8798  Home Office  United States  Burlington  Vermont          NaN   East   \n",
       "9146    Corporate  United States  Burlington  Vermont          NaN   East   \n",
       "9147    Corporate  United States  Burlington  Vermont          NaN   East   \n",
       "9148    Corporate  United States  Burlington  Vermont          NaN   East   \n",
       "9386     Consumer  United States  Burlington  Vermont          NaN   East   \n",
       "9387     Consumer  United States  Burlington  Vermont          NaN   East   \n",
       "9388     Consumer  United States  Burlington  Vermont          NaN   East   \n",
       "9389     Consumer  United States  Burlington  Vermont          NaN   East   \n",
       "9741    Corporate  United States  Burlington  Vermont          NaN   East   \n",
       "\n",
       "           Product ID         Category Sub-Category  \\\n",
       "2234  TEC-AC-10001013       Technology  Accessories   \n",
       "5274  FUR-CH-10000595        Furniture       Chairs   \n",
       "8798  TEC-PH-10002555       Technology       Phones   \n",
       "9146  TEC-AC-10002926       Technology  Accessories   \n",
       "9147  OFF-AR-10003477  Office Supplies          Art   \n",
       "9148  OFF-ST-10001526  Office Supplies      Storage   \n",
       "9386  OFF-PA-10000157  Office Supplies        Paper   \n",
       "9387  OFF-PA-10001970  Office Supplies        Paper   \n",
       "9388  OFF-AP-10000828  Office Supplies   Appliances   \n",
       "9389  OFF-EN-10001509  Office Supplies    Envelopes   \n",
       "9741  FUR-BO-10004834        Furniture    Bookcases   \n",
       "\n",
       "                                           Product Name    Sales  \n",
       "2234        Logitech ClearChat Comfort/USB Headset H390   205.03  \n",
       "5274                    Safco Contoured Stacking Chairs   715.20  \n",
       "8798                Nortel Meridian M5316 Digital phone  1294.75  \n",
       "9146              Logitech Wireless Marathon Mouse M705    99.98  \n",
       "9147                                  4009 Highlighters     8.04  \n",
       "9148              Iceberg Mobile Mega Data/Printer Cart  1564.29  \n",
       "9386                                          Xerox 191    79.92  \n",
       "9387                                         Xerox 1881    12.28  \n",
       "9388                    Avanti 4.4 Cu. Ft. Refrigerator   542.94  \n",
       "9389                          Poly String Tie Envelopes     2.04  \n",
       "9741  Riverside Palais Royal Lawyers Bookcase, Royal...  4404.90  "
      ]
     },
     "execution_count": 27,
     "metadata": {},
     "output_type": "execute_result"
    }
   ],
   "source": [
    "# Checking Entries with Null 'Postal Code'\n",
    "df[df['Postal Code'].isna()]  # Filter rows where 'Postal Code' is null"
   ]
  },
  {
   "cell_type": "markdown",
   "id": "062dbe13-27a7-4f0f-9cfd-b8872bb93546",
   "metadata": {},
   "source": [
    "Alguns desses registros são outliers (valores de venda acima de Q3 + desvio padrão), e sem saber a quantidade total de outliers, eles podem ser valiosos para análise.  \n",
    "\n",
    "Possíveis abordagens:  \n",
    "1. Verificar se os `Customer ID` ligados a esses `Postal Code` nulos têm outros registros com localidade exata (caso seja única).  \n",
    "2. Excluir os dados nulos.  \n",
    "\n",
    "Primeiro, vamos buscar outros registros desses `Customer ID` pra encontrar um `Postal Code` válido."
   ]
  },
  {
   "cell_type": "code",
   "execution_count": 29,
   "id": "3d693cc8-6d3f-4979-9703-930fefe0fef3",
   "metadata": {},
   "outputs": [
    {
     "data": {
      "text/html": [
       "<div>\n",
       "<style scoped>\n",
       "    .dataframe tbody tr th:only-of-type {\n",
       "        vertical-align: middle;\n",
       "    }\n",
       "\n",
       "    .dataframe tbody tr th {\n",
       "        vertical-align: top;\n",
       "    }\n",
       "\n",
       "    .dataframe thead th {\n",
       "        text-align: right;\n",
       "    }\n",
       "</style>\n",
       "<table border=\"1\" class=\"dataframe\">\n",
       "  <thead>\n",
       "    <tr style=\"text-align: right;\">\n",
       "      <th></th>\n",
       "      <th>Customer ID</th>\n",
       "      <th>Postal Code</th>\n",
       "    </tr>\n",
       "  </thead>\n",
       "  <tbody>\n",
       "    <tr>\n",
       "      <th>197</th>\n",
       "      <td>VM-21685</td>\n",
       "      <td>7090.0</td>\n",
       "    </tr>\n",
       "    <tr>\n",
       "      <th>266</th>\n",
       "      <td>CB-12535</td>\n",
       "      <td>27514.0</td>\n",
       "    </tr>\n",
       "    <tr>\n",
       "      <th>1151</th>\n",
       "      <td>CB-12535</td>\n",
       "      <td>44221.0</td>\n",
       "    </tr>\n",
       "    <tr>\n",
       "      <th>1298</th>\n",
       "      <td>QJ-19255</td>\n",
       "      <td>55106.0</td>\n",
       "    </tr>\n",
       "    <tr>\n",
       "      <th>1646</th>\n",
       "      <td>VM-21685</td>\n",
       "      <td>19140.0</td>\n",
       "    </tr>\n",
       "    <tr>\n",
       "      <th>1647</th>\n",
       "      <td>VM-21685</td>\n",
       "      <td>19140.0</td>\n",
       "    </tr>\n",
       "    <tr>\n",
       "      <th>1661</th>\n",
       "      <td>QJ-19255</td>\n",
       "      <td>19143.0</td>\n",
       "    </tr>\n",
       "    <tr>\n",
       "      <th>1662</th>\n",
       "      <td>QJ-19255</td>\n",
       "      <td>19143.0</td>\n",
       "    </tr>\n",
       "    <tr>\n",
       "      <th>1683</th>\n",
       "      <td>CB-12535</td>\n",
       "      <td>94110.0</td>\n",
       "    </tr>\n",
       "    <tr>\n",
       "      <th>1758</th>\n",
       "      <td>RM-19375</td>\n",
       "      <td>77095.0</td>\n",
       "    </tr>\n",
       "  </tbody>\n",
       "</table>\n",
       "</div>"
      ],
      "text/plain": [
       "     Customer ID  Postal Code\n",
       "197     VM-21685       7090.0\n",
       "266     CB-12535      27514.0\n",
       "1151    CB-12535      44221.0\n",
       "1298    QJ-19255      55106.0\n",
       "1646    VM-21685      19140.0\n",
       "1647    VM-21685      19140.0\n",
       "1661    QJ-19255      19143.0\n",
       "1662    QJ-19255      19143.0\n",
       "1683    CB-12535      94110.0\n",
       "1758    RM-19375      77095.0"
      ]
     },
     "execution_count": 29,
     "metadata": {},
     "output_type": "execute_result"
    }
   ],
   "source": [
    "# Identifying Customer IDs with Null 'Postal Code'\n",
    "null_customer_ids = df[df['Postal Code'] \\\n",
    ".isna()]['Customer ID'].unique()  # Get unique Customer IDs with null Postal Code\n",
    "\n",
    "# Checking Other Records for These Customer IDs\n",
    "df[df['Customer ID']. \\\n",
    "isin(null_customer_ids)] \\\n",
    "[['Customer ID','Postal Code']] \\\n",
    ".head(10)  # Filter all rows matching these Customer IDs and showing only the relevant information"
   ]
  },
  {
   "cell_type": "markdown",
   "id": "74ee475f-bbd4-45a1-bc57-bd60ad2f25f2",
   "metadata": {},
   "source": [
    "Ao analisar os códigos postais de `Customer ID` em entradas sem `Postal Code`, notei que os valores variam, impedindo o preenchimento dos dados faltantes.  \n",
    "\n",
    "Restam algumas opções:  \n",
    "1. Manter os nulos em `Postal Code` e usá-los com cautela nas análises futuras.  \n",
    "2. Avaliar a quantidade de outliers pra decidir o valor dessas entradas.  \n",
    "3. Comparar análises antes e depois da remoção, usando dois dataframes.  \n",
    "4. Criar um dataframe sem os nulos e replicar análises em paralelo.  \n",
    "5. Remover completamente os dados com `Postal Code` nulo.  \n",
    "\n",
    "Como as opções 2, 3 e 4 demandam esforço extra pra um projeto demonstrativo, e os 11 nulos representam menos de 1% do dataset, optei por removê-los, considerando o impacto mínimo."
   ]
  },
  {
   "cell_type": "code",
   "execution_count": 31,
   "id": "4b4b76b1-7b05-4c4e-b303-398cd089e395",
   "metadata": {},
   "outputs": [
    {
     "data": {
      "text/plain": [
       "0"
      ]
     },
     "execution_count": 31,
     "metadata": {},
     "output_type": "execute_result"
    }
   ],
   "source": [
    "# Removing all entries with null 'Postal Code'\n",
    "df.dropna(subset=['Postal Code'], inplace=True)  # Drop rows where Postal Code is null\n",
    "\n",
    "# Checking for remaining nulls in 'Postal Code'\n",
    "df['Postal Code'].isna().sum()  # Sum the number of null values to verify removal"
   ]
  },
  {
   "cell_type": "markdown",
   "id": "a201abc8-7d14-4748-88a9-1655a55c2b50",
   "metadata": {},
   "source": [
    "Vamos reavaliar o `describe` pra checar mudanças significativas após a remoção:"
   ]
  },
  {
   "cell_type": "code",
   "execution_count": 33,
   "id": "532eb037-0746-4161-b8c3-01cf7bc3d438",
   "metadata": {},
   "outputs": [
    {
     "data": {
      "text/plain": [
       "count     9789.000000\n",
       "mean       230.116193\n",
       "std        625.302079\n",
       "min          0.444000\n",
       "25%         17.248000\n",
       "50%         54.384000\n",
       "75%        210.392000\n",
       "max      22638.480000\n",
       "Name: Sales, dtype: float64"
      ]
     },
     "execution_count": 33,
     "metadata": {},
     "output_type": "execute_result"
    }
   ],
   "source": [
    "# Reassessing Sales distribution after null removal\n",
    "df['Sales'].describe()  # Display updated statistical summary of Sales column"
   ]
  },
  {
   "cell_type": "markdown",
   "id": "2514666c-96f8-4e8b-8a05-0c014bbf8fcc",
   "metadata": {},
   "source": [
    "Ótimo, comparando média e desvio padrão antes e depois, a remoção dos nulos teve impacto estatístico mínimo, permitindo prosseguir sem preocupações.\n",
    "\n",
    "Agora vamos verificar duplicatas:"
   ]
  },
  {
   "cell_type": "code",
   "execution_count": 35,
   "id": "deec508c-bd61-47b4-82c5-76e2ea253c76",
   "metadata": {},
   "outputs": [
    {
     "data": {
      "text/plain": [
       "1"
      ]
     },
     "execution_count": 35,
     "metadata": {},
     "output_type": "execute_result"
    }
   ],
   "source": [
    "# Checking for duplicate rows in the dataset\n",
    "df.duplicated().sum()  # Count total number of duplicated entries"
   ]
  },
  {
   "cell_type": "markdown",
   "id": "935316a9-a4a8-41e3-b7d2-0c9d697fe079",
   "metadata": {},
   "source": [
    "Com apenas uma duplicata, seu impacto é estatisticamente desprezível. \n",
    "\n",
    "Porém, considerando o contexto do dataset, um usuário pedir o mesmo produto, no mesmo lugar e dia, com o mesmo envio, é plausível — mas a diferença na ordem do pedido (`Order ID`) sugere um erro de entrada, justificando a remoção."
   ]
  },
  {
   "cell_type": "code",
   "execution_count": 37,
   "id": "f3d0e4b6-fd31-4dc9-8d3f-d19460b1ac59",
   "metadata": {},
   "outputs": [
    {
     "data": {
      "text/plain": [
       "0"
      ]
     },
     "execution_count": 37,
     "metadata": {},
     "output_type": "execute_result"
    }
   ],
   "source": [
    "# Removing duplicate rows\n",
    "df.drop_duplicates(inplace=True)  # Drop duplicate entries to ensure data integrity\n",
    "\n",
    "# Verifying removal of duplicates\n",
    "df.duplicated().sum()  # Confirm no duplicates remain"
   ]
  },
  {
   "cell_type": "markdown",
   "id": "27d9f284-92c4-4f7a-8cac-46831ae17cf9",
   "metadata": {},
   "source": [
    "Removido com sucesso, agora falta apenas os outliers."
   ]
  },
  {
   "cell_type": "code",
   "execution_count": 39,
   "id": "d3d022fd-8a70-4078-95ac-14ffcaf24e9b",
   "metadata": {},
   "outputs": [
    {
     "data": {
      "image/png": "[encoded data removed]",
      "text/plain": [
       "<Figure size 1000x600 with 1 Axes>"
      ]
     },
     "metadata": {},
     "output_type": "display_data"
    }
   ],
   "source": [
    "sns.boxplot(data = df['Sales'])\n",
    "plt.show()"
   ]
  },
  {
   "cell_type": "markdown",
   "id": "8ed399c2-c731-4175-8978-67c875ea83ef",
   "metadata": {},
   "source": [
    "A visualização em caixa não se mostrou muito útil, então podemos normalizar os dados ou verificar a quantidade de outliers antes, para pensar em uma estratégia.\n",
    "\n",
    "Vamos primeiro analisar a quantidade de outliers:"
   ]
  },
  {
   "cell_type": "code",
   "execution_count": 41,
   "id": "5d533943-7b96-4bbb-9b77-acc57015a7ea",
   "metadata": {},
   "outputs": [
    {
     "data": {
      "text/plain": [
       "1145"
      ]
     },
     "execution_count": 41,
     "metadata": {},
     "output_type": "execute_result"
    }
   ],
   "source": [
    "# Calculating IQR for Sales to identify upper outliers\n",
    "Q1 = df['Sales'].quantile(0.25)  # First quartile (25%)\n",
    "Q3 = df['Sales'].quantile(0.75)  # Third quartile (75%)\n",
    "IQR = Q3 - Q1  # Interquartile range\n",
    "upper_bound = Q3 + 1.5 * IQR  # Upper limit for outliers\n",
    "\n",
    "# Counting upper outliers\n",
    "df[df['Sales'] > upper_bound]['Sales'].count()  # Number of values above upper bound"
   ]
  },
  {
   "cell_type": "markdown",
   "id": "f3f45569-0b6e-4d7d-b5bf-e9ea9948a992",
   "metadata": {},
   "source": [
    "Com mais de 10% das entradas em `Sales` sendo outliers superiores, decidi investigar seu impacto antes de qualquer tratamento:  \n",
    "\n",
    "O volume alto sugere que esses valores podem refletir vendas reais e excepcionais, como picos sazonais. Aqui estão as opções consideradas:  \n",
    "1. Separar os outliers em um dataset à parte pra análise independente, preservando o original.  \n",
    "2. Aplicar transformação log pra reduzir a escala dos extremos sem excluí-los.  \n",
    "3. Remover os outliers pra focar nas vendas típicas, simplificando estatísticas.  \n",
    "4. Limitar os valores ao teto do IQR (capping), equilibrando o dataset.  \n",
    "5. Usar métricas robustas (ex.: mediana) pra ignorar os extremos sem alterá-los.  \n",
    "\n",
    "Escolhi a primeira abordagem por priorizar a análise dos dados: ela permite comparar os datasets lado a lado e isolar os outliers pra identificar padrões específicos, como os cenários que levam a vendas de alto valor — um ponto particularmente valioso pra este estudo."
   ]
  },
  {
   "cell_type": "code",
   "execution_count": 43,
   "id": "3c38d411-be92-46d8-ae66-593fd6afb230",
   "metadata": {},
   "outputs": [],
   "source": [
    "# Creating two datasets\n",
    "df_outliers = df[df['Sales'] > upper_bound]  # Dataset with upper outliers\n",
    "df_typical = df[df['Sales'] <= upper_bound]  # Dataset with typical values"
   ]
  },
  {
   "cell_type": "markdown",
   "id": "3b514409-a78b-4416-ac79-512834177db4",
   "metadata": {},
   "source": [
    "Tudo preparado, vamos seguir para a próxima etapa!"
   ]
  },
  {
   "cell_type": "markdown",
   "id": "917307be-a053-42e6-935c-069888bba83b",
   "metadata": {},
   "source": [
    "## ⚙️ 3. Feature Engineering Temporal e Segmentada"
   ]
  },
  {
   "cell_type": "code",
   "execution_count": null,
   "id": "2cd6cd04-d336-4945-89e7-99b5a3a919ed",
   "metadata": {},
   "outputs": [],
   "source": []
  },
  {
   "cell_type": "code",
   "execution_count": null,
   "id": "d2ef4114-edd3-4a98-8b58-ce90a0c0b9e2",
   "metadata": {},
   "outputs": [],
   "source": []
  },
  {
   "cell_type": "code",
   "execution_count": null,
   "id": "99828264-38c5-481e-bcce-9ed3faa0ebf8",
   "metadata": {},
   "outputs": [],
   "source": []
  },
  {
   "cell_type": "markdown",
   "id": "82e08942-d682-4e7b-9b28-3eda48747b8a",
   "metadata": {},
   "source": [
    "## 4. Análise Temporal Exploratória"
   ]
  },
  {
   "cell_type": "markdown",
   "id": "9040272d-d827-4b8d-972a-513ab5deef53",
   "metadata": {},
   "source": [
    "## 5. Segmentação e Análise de Subgrupos"
   ]
  },
  {
   "cell_type": "markdown",
   "id": "4c413d77-9dd9-4389-8749-8b6c827202b3",
   "metadata": {},
   "source": [
    "## 6. Análise Bivariada e Multivariada"
   ]
  },
  {
   "cell_type": "markdown",
   "id": "96669723-1824-4330-b989-d7a8275c8be4",
   "metadata": {},
   "source": [
    "## 7. Pipeline de Automação"
   ]
  },
  {
   "cell_type": "markdown",
   "id": "c2a903e1-8e9d-4014-94db-fc9736f7302f",
   "metadata": {},
   "source": [
    "## 8. Insights"
   ]
  },
  {
   "cell_type": "markdown",
   "id": "b9185c79-b85e-4332-a3f8-487aa3379aec",
   "metadata": {},
   "source": [
    "## 9. Integração com Machine Learning/Deep Learning"
   ]
  },
  {
   "cell_type": "markdown",
   "id": "f1fbcf3a-d3c8-4c0e-a18f-4c040484629e",
   "metadata": {},
   "source": [
    "## 10. Conclusão e Apresentação Final"
   ]
  }
 ],
 "metadata": {
  "kernelspec": {
   "display_name": "Python [conda env:base] *",
   "language": "python",
   "name": "conda-base-py"
  },
  "language_info": {
   "codemirror_mode": {
    "name": "ipython",
    "version": 3
   },
   "file_extension": ".py",
   "mimetype": "text/x-python",
   "name": "python",
   "nbconvert_exporter": "python",
   "pygments_lexer": "ipython3",
   "version": "3.12.7"
  }
 },
 "nbformat": 4,
 "nbformat_minor": 5
}
